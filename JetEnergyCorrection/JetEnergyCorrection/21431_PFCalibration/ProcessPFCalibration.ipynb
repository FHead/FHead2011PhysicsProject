{
 "cells": [
  {
   "cell_type": "markdown",
   "metadata": {},
   "source": [
    "# Download PF calibration files"
   ]
  },
  {
   "cell_type": "code",
   "execution_count": 4,
   "metadata": {},
   "outputs": [],
   "source": [
    "import urllib.request\n",
    "\n",
    "Tags = ['PFCalibration2019_mc_UL2017', 'PFCalibration_HLT_2017_25ns_Spring17_V3', 'PFCalibration_HLT_2018_25ns_Spring19_V1', 'PFCalibration_v10_mc']\n",
    "URLBase = 'https://raw.githubusercontent.com/cms-jet/PFHCDataBase/master/xmlFiles/'\n",
    "\n",
    "for Tag in Tags:\n",
    "    urllib.request.urlretrieve(URLBase + \"/\" + Tag + \"/PFCalibration.xml\", Tag + \".xml\")"
   ]
  },
  {
   "cell_type": "markdown",
   "metadata": {},
   "source": [
    "# Convert them into plain text files for further processing"
   ]
  },
  {
   "cell_type": "code",
   "execution_count": 60,
   "metadata": {},
   "outputs": [],
   "source": [
    "import xmltodict\n",
    "\n",
    "for Tag in Tags:\n",
    "    File = open(Tag + \".txt\", \"w\")\n",
    "    \n",
    "    XMLData = ''\n",
    "    with open(Tag + \".xml\", 'r') as file:\n",
    "        XMLData = file.read()\n",
    "    \n",
    "    Result = xmltodict.parse(XMLData)['boost_serialization']['cmsCondPayload']\n",
    "    # print(Result[\"pl\"]['limits-'])\n",
    "    # print(Result[\"pl\"]['formulas-'])\n",
    "    # print(Result[\"results-\"])\n",
    "    \n",
    "    Limits = Result[\"pl\"]['limits-']\n",
    "    Formulas = Result[\"pl\"]['formulas-']\n",
    "    IDs = Result[\"results-\"]\n",
    "    \n",
    "    N = Formulas[\"count\"]\n",
    "    if N != Limits[\"count\"]:\n",
    "        raise Exception(\"XML file not consistent!  Number of Limits != Number of Formulas\")\n",
    "    if N != IDs[\"count\"]:\n",
    "        raise Exception(\"XML file not consistent!  Number of Limits != Number of IDs\")\n",
    "\n",
    "    LimitItems = Limits[\"item\"]\n",
    "    FormulaItems = Formulas[\"item\"]\n",
    "    IDItems = IDs[\"item\"]\n",
    "    \n",
    "    for i in range(int(N)):\n",
    "        File.write(IDItems[i] + ' ' + LimitItems[i]['first'] + ' ' + LimitItems[i]['second'] + ' ' + FormulaItems[i] + '\\n')\n",
    "    \n",
    "    File.close()"
   ]
  },
  {
   "cell_type": "code",
   "execution_count": null,
   "metadata": {},
   "outputs": [],
   "source": []
  },
  {
   "cell_type": "code",
   "execution_count": null,
   "metadata": {},
   "outputs": [],
   "source": []
  }
 ],
 "metadata": {
  "kernelspec": {
   "display_name": "Python 3",
   "language": "python",
   "name": "python3"
  },
  "language_info": {
   "codemirror_mode": {
    "name": "ipython",
    "version": 3
   },
   "file_extension": ".py",
   "mimetype": "text/x-python",
   "name": "python",
   "nbconvert_exporter": "python",
   "pygments_lexer": "ipython3",
   "version": "3.7.3"
  }
 },
 "nbformat": 4,
 "nbformat_minor": 2
}
